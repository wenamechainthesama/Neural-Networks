{
 "cells": [
  {
   "cell_type": "code",
   "execution_count": null,
   "id": "087f3d40",
   "metadata": {},
   "outputs": [],
   "source": [
    "import tensorflow as tf\n",
    "from tensorflow import keras\n",
    "from tensorflow.keras import layers\n",
    "from tensorflow.keras.datasets import mnist\n",
    "import tensorflow_hub as hub  # website in which there are plenty of pretrained tensorflow NNs"
   ]
  },
  {
   "cell_type": "code",
   "execution_count": null,
   "id": "aaad4429",
   "metadata": {},
   "outputs": [],
   "source": [
    "# ================================================ #\n",
    "#                  Pretrained-Model                #\n",
    "# ================================================ #\n",
    "\n",
    "(x_train, y_train), (x_test, y_test) = mnist.load_data()\n",
    "x_train = x_train.reshape(-1, 28, 28, 1).astype(\"float32\") / 255.0\n",
    "x_test = x_test.reshape(-1, 28, 28, 1).astype(\"float32\") / 255.0\n",
    "\n",
    "model = keras.models.load_model(\"FOLDER_WITH_YOUR_PRETRAINED_MODEL\")\n",
    "\n",
    "# Freeze all model layer weights\n",
    "model.trainable = False\n",
    "\n",
    "# Can also set trainable for specific layers\n",
    "for layer in model.layers:\n",
    "    # assert should be true because of one-liner above\n",
    "    assert layer.trainable == False\n",
    "    layer.trainable = False\n",
    "\n",
    "print(model.summary())  # for finding base input and output\n",
    "base_inputs = model.layers[0].input\n",
    "base_output = model.layers[-2].output\n",
    "output = layers.Dense(10)(base_output)\n",
    "new_model = keras.Model(base_inputs, output)\n",
    "\n",
    "# This model is actually identical to model we\n",
    "# loaded (this is just for demonstration and\n",
    "# and not something you would do in practice).\n",
    "print(new_model.summary())\n",
    "\n",
    "# As usual we do compile and fit, this time on new_model\n",
    "new_model.compile(\n",
    "    optimizer=keras.optimizers.Adam(),\n",
    "    loss=keras.losses.SparseCategoricalCrossentropy(from_logits=True),\n",
    "    metrics=[\"accuracy\"],\n",
    ")\n",
    "\n",
    "new_model.fit(x_train, y_train, batch_size=32, epochs=3, verbose=2)"
   ]
  },
  {
   "cell_type": "code",
   "execution_count": null,
   "id": "5b77604f",
   "metadata": {},
   "outputs": [],
   "source": [
    "# =================================================== #\n",
    "#                Pretrained Keras Model               #\n",
    "# =================================================== #\n",
    "\n",
    "# Random data for demonstration (3 examples w. 3 classes)\n",
    "x = tf.random.normal(shape=(3, 299, 299, 3))\n",
    "y = tf.constant([0, 1, 2])\n",
    "\n",
    "model = keras.applications.InceptionV3(include_top=True)\n",
    "print(model.summary())\n",
    "\n",
    "# for input you can also do model.input,\n",
    "# then for base_outputs you can obviously\n",
    "# choose other than simply removing the last one :)\n",
    "base_inputs = model.layers[0].input\n",
    "base_outputs = model.layers[-2].output\n",
    "classifier = layers.Dense(3)(base_outputs)\n",
    "new_model = keras.Model(inputs=base_inputs, outputs=classifier)\n",
    "new_model.compile(\n",
    "    optimizer=keras.optimizers.Adam(),\n",
    "    loss=keras.losses.SparseCategoricalCrossentropy(from_logits=True),\n",
    "    metrics=[\"accuracy\"]\n",
    ")\n",
    "\n",
    "print(new_model.summary())\n",
    "new_model.fit(x, y, epochs=15, verbose=2)"
   ]
  },
  {
   "cell_type": "code",
   "execution_count": null,
   "id": "e985b8de",
   "metadata": {},
   "outputs": [],
   "source": [
    "# ================================================= #\n",
    "#                Pretrained Hub Model               #\n",
    "# ================================================= #\n",
    "\n",
    "# Random data for demonstration (3 examples w. 3 classes)\n",
    "x = tf.random.normal(shape=(3, 299, 299, 3))\n",
    "y = tf.constant([0, 1, 2])\n",
    "\n",
    "url = \"https://tfhub.dev/google/imagenet/inception_v3/feature_vector/4\"\n",
    "\n",
    "base_model = hub.KerasLayer(url, input_shape=(299, 299, 3))\n",
    "model = keras.Sequential(\n",
    "    [\n",
    "        base_model,\n",
    "        layers.Dense(128, activation=\"relu\"),\n",
    "        layers.Dense(64, activation=\"relu\"),\n",
    "        layers.Dense(10),\n",
    "    ]\n",
    ")\n",
    "\n",
    "model.compile(\n",
    "    optimizer=keras.optimizers.Adam(),\n",
    "    loss=keras.losses.SparseCategoricalCrossentropy(from_logits=True),\n",
    "    metrics=[\"accuracy\"]\n",
    ")\n",
    "\n",
    "model.fit(x, y, batch_size=32, epochs=15, verbose=2)"
   ]
  },
  {
   "cell_type": "code",
   "execution_count": null,
   "id": "4ebcba67",
   "metadata": {},
   "outputs": [],
   "source": [
    "# Ссылка на источник - https://www.youtube.com/watch?v=YrMy-BAqk8k&list=PLhhyoLH6IjfxVOdVC1P1L5z5azs0XjMsb&index=12"
   ]
  }
 ],
 "metadata": {
  "kernelspec": {
   "display_name": "Python 3 (ipykernel)",
   "language": "python",
   "name": "python3"
  },
  "language_info": {
   "codemirror_mode": {
    "name": "ipython",
    "version": 3
   },
   "file_extension": ".py",
   "mimetype": "text/x-python",
   "name": "python",
   "nbconvert_exporter": "python",
   "pygments_lexer": "ipython3",
   "version": "3.10.9"
  }
 },
 "nbformat": 4,
 "nbformat_minor": 5
}
