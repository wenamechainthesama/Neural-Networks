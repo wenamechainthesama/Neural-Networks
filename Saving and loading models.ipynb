{
 "cells": [
  {
   "cell_type": "code",
   "execution_count": null,
   "id": "14c6475e",
   "metadata": {},
   "outputs": [],
   "source": [
    "import tensorflow as tf\n",
    "from tensorflow import keras\n",
    "from tensorflow.keras import layers\n",
    "from tensorflow.keras.datasets import mnist"
   ]
  },
  {
   "cell_type": "code",
   "execution_count": 2,
   "id": "cd56dd1a",
   "metadata": {},
   "outputs": [],
   "source": [
    "(x_train, y_train), (x_test, y_test) = mnist.load_data()"
   ]
  },
  {
   "cell_type": "code",
   "execution_count": 3,
   "id": "9144262b",
   "metadata": {},
   "outputs": [],
   "source": [
    "x_train = x_train.astype('float32') / 255.0\n",
    "x_test = x_test.astype('float32') / 255.0"
   ]
  },
  {
   "cell_type": "code",
   "execution_count": 4,
   "id": "01d96fa2",
   "metadata": {},
   "outputs": [],
   "source": [
    "model = keras.Sequential()"
   ]
  },
  {
   "cell_type": "code",
   "execution_count": 5,
   "id": "a5ba450a",
   "metadata": {},
   "outputs": [],
   "source": [
    "model.add(keras.Input(shape=(None, 28)))\n",
    "model.add(\n",
    "    layers.Bidirectional(\n",
    "        layers.SimpleRNN(256, return_sequences=True, activation='tanh', name='first_RNN')\n",
    "    )\n",
    ")\n",
    "model.add(\n",
    "    layers.Bidirectional(\n",
    "        layers.SimpleRNN(256, activation='tanh', name='second_RNN')\n",
    "    )\n",
    ")\n",
    "model.add(\n",
    "    layers.Dense(10)\n",
    ")"
   ]
  },
  {
   "cell_type": "code",
   "execution_count": 6,
   "id": "4aa70173",
   "metadata": {},
   "outputs": [],
   "source": [
    "model.compile(\n",
    "    loss=keras.losses.SparseCategoricalCrossentropy(from_logits=True),\n",
    "    optimizer=keras.optimizers.Adam(learning_rate=0.001),\n",
    "    metrics=['accuracy']\n",
    ")"
   ]
  },
  {
   "cell_type": "code",
   "execution_count": 1,
   "id": "f95db24e",
   "metadata": {},
   "outputs": [],
   "source": [
    " model.fit(x_train, y_train, batch_size=64, epochs=2, verbose=2)"
   ]
  },
  {
   "cell_type": "code",
   "execution_count": null,
   "id": "295c126a",
   "metadata": {},
   "outputs": [],
   "source": [
    "model.evaluate(x_test, y_test, batch_size=64, verbose=2)"
   ]
  },
  {
   "cell_type": "markdown",
   "id": "8c2fcfaf",
   "metadata": {},
   "source": [
    "model.save_weights('weights/')  # To save weights in 'weights' folder of this project. It doesn't need to be created."
   ]
  },
  {
   "cell_type": "markdown",
   "id": "8aa665ef",
   "metadata": {},
   "source": [
    "model.load_weights('weights/')  # To load weights from 'weights' folder of this project."
   ]
  },
  {
   "cell_type": "markdown",
   "id": "f746dc00",
   "metadata": {},
   "source": [
    "model.save('complete_saved_model/')  # To save entire model in 'complete_saved_model'"
   ]
  },
  {
   "cell_type": "markdown",
   "id": "051b6e1f",
   "metadata": {},
   "source": [
    "model = keras.models.load_model('complete_saved_model/')  # To load model from 'complete_saved_model'"
   ]
  },
  {
   "cell_type": "code",
   "execution_count": null,
   "id": "cc5ead4d",
   "metadata": {},
   "outputs": [],
   "source": [
    "# Источник - https://www.youtube.com/watch?v=WJZoywOG1cs&list=PLhhyoLH6IjfxVOdVC1P1L5z5azs0XjMsb&index=13"
   ]
  }
 ],
 "metadata": {
  "kernelspec": {
   "display_name": "Python 3 (ipykernel)",
   "language": "python",
   "name": "python3"
  },
  "language_info": {
   "codemirror_mode": {
    "name": "ipython",
    "version": 3
   },
   "file_extension": ".py",
   "mimetype": "text/x-python",
   "name": "python",
   "nbconvert_exporter": "python",
   "pygments_lexer": "ipython3",
   "version": "3.10.9"
  }
 },
 "nbformat": 4,
 "nbformat_minor": 5
}
