{
 "cells": [
  {
   "cell_type": "code",
   "execution_count": 1,
   "id": "41173f55",
   "metadata": {},
   "outputs": [],
   "source": [
    "import tensorflow as tf\n",
    "from tensorflow import keras\n",
    "from tensorflow.keras import layers\n",
    "from tensorflow.keras.datasets import mnist"
   ]
  },
  {
   "cell_type": "code",
   "execution_count": 2,
   "id": "7ee94ecc",
   "metadata": {},
   "outputs": [
    {
     "name": "stdout",
     "output_type": "stream",
     "text": [
      "Downloading data from https://storage.googleapis.com/tensorflow/tf-keras-datasets/mnist.npz\n",
      "11490434/11490434 [==============================] - 4s 0us/step\n"
     ]
    }
   ],
   "source": [
    "(x_train, y_train), (x_test, y_test) = mnist.load_data()"
   ]
  },
  {
   "cell_type": "code",
   "execution_count": 3,
   "id": "c164b4c9",
   "metadata": {},
   "outputs": [],
   "source": [
    "x_train = x_train.reshape(-1, 28 * 28).astype('float32') / 255.0\n",
    "x_test = x_test.reshape(-1, 28 * 28).astype('float32') / 255.0"
   ]
  },
  {
   "cell_type": "code",
   "execution_count": 9,
   "id": "c8fcfe67",
   "metadata": {},
   "outputs": [],
   "source": [
    "# Sequential API\n",
    "model = keras.Sequential([\n",
    "    keras.Input(shape=(28 * 28)),\n",
    "    layers.Dense(512, activation='relu'),\n",
    "    layers.Dense(256, activation='relu'),\n",
    "    layers.Dense(10, activation='softmax')\n",
    "])\n",
    "\n",
    "\n",
    "\"\"\"\n",
    "That is the same as:\n",
    "\n",
    "model = keras.Sequential()\n",
    "model.add(keras.Input(shape=(28 * 28)))\n",
    "model.add(layers.Dense(512, activation='relu')\n",
    "model.add(layers.Dense(256, activation='relu')\n",
    "model.add(layers.Dense(10, activation='softmax'))\n",
    "\n",
    "model = keras.Model(inputs=model.inputs,\n",
    "                    outputs=[model.layers[-1].output])\n",
    "\n",
    "\"\"\""
   ]
  },
  {
   "cell_type": "code",
   "execution_count": 14,
   "id": "b07cb719",
   "metadata": {},
   "outputs": [],
   "source": [
    "# Functional API\n",
    "inputs = keras.Input(shape=(28 * 28))\n",
    "hidden1 = layers.Dense(512, activation='relu')(inputs)\n",
    "hidden2 = layers.Dense(256, activation='relu')(hidden1)\n",
    "outputs = layers.Dense(10, activation='softmax')(hidden2)\n",
    "\n",
    "model = keras.Model(inputs=inputs, outputs=outputs)"
   ]
  },
  {
   "cell_type": "code",
   "execution_count": 15,
   "id": "c0ce82cf",
   "metadata": {},
   "outputs": [],
   "source": [
    "model.compile(\n",
    "    loss='sparse_categorical_crossentropy',\n",
    "    optimizer='adam',\n",
    "    metrics=['accuracy']\n",
    ")"
   ]
  },
  {
   "cell_type": "code",
   "execution_count": 16,
   "id": "fa186738",
   "metadata": {},
   "outputs": [
    {
     "name": "stdout",
     "output_type": "stream",
     "text": [
      "Epoch 1/5\n",
      "1875/1875 - 52s - loss: 0.1858 - accuracy: 0.9441 - 52s/epoch - 28ms/step\n",
      "Epoch 2/5\n",
      "1875/1875 - 35s - loss: 0.0804 - accuracy: 0.9744 - 35s/epoch - 19ms/step\n",
      "Epoch 3/5\n",
      "1875/1875 - 34s - loss: 0.0549 - accuracy: 0.9818 - 34s/epoch - 18ms/step\n",
      "Epoch 4/5\n",
      "1875/1875 - 33s - loss: 0.0393 - accuracy: 0.9876 - 33s/epoch - 18ms/step\n",
      "Epoch 5/5\n",
      "1875/1875 - 33s - loss: 0.0345 - accuracy: 0.9890 - 33s/epoch - 18ms/step\n"
     ]
    },
    {
     "data": {
      "text/plain": [
       "<keras.callbacks.History at 0x233b7a28310>"
      ]
     },
     "execution_count": 16,
     "metadata": {},
     "output_type": "execute_result"
    }
   ],
   "source": [
    "model.fit(x_train, y_train, batch_size=32, epochs=5, verbose=2)"
   ]
  },
  {
   "cell_type": "code",
   "execution_count": 12,
   "id": "68dd4229",
   "metadata": {},
   "outputs": [
    {
     "name": "stdout",
     "output_type": "stream",
     "text": [
      "313/313 - 2s - loss: 0.0926 - accuracy: 0.9749 - 2s/epoch - 7ms/step\n"
     ]
    },
    {
     "data": {
      "text/plain": [
       "[0.09261459112167358, 0.9749000072479248]"
      ]
     },
     "execution_count": 12,
     "metadata": {},
     "output_type": "execute_result"
    }
   ],
   "source": [
    "model.evaluate(x_test, y_test, batch_size=32, verbose=2)"
   ]
  },
  {
   "cell_type": "code",
   "execution_count": null,
   "id": "6d2a16b8",
   "metadata": {},
   "outputs": [],
   "source": [
    "# Ссылка на источник - https://www.youtube.com/watch?v=pAhPiF3yiXI&list=PLhhyoLH6IjfxVOdVC1P1L5z5azs0XjMsb&index=3"
   ]
  }
 ],
 "metadata": {
  "kernelspec": {
   "display_name": "Python 3 (ipykernel)",
   "language": "python",
   "name": "python3"
  },
  "language_info": {
   "codemirror_mode": {
    "name": "ipython",
    "version": 3
   },
   "file_extension": ".py",
   "mimetype": "text/x-python",
   "name": "python",
   "nbconvert_exporter": "python",
   "pygments_lexer": "ipython3",
   "version": "3.10.9"
  }
 },
 "nbformat": 4,
 "nbformat_minor": 5
}
