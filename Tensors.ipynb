{
 "cells": [
  {
   "cell_type": "code",
   "execution_count": 2,
   "id": "6e5c6d06",
   "metadata": {},
   "outputs": [],
   "source": [
    "import tensorflow as tf"
   ]
  },
  {
   "cell_type": "code",
   "execution_count": null,
   "id": "4c98438f",
   "metadata": {},
   "outputs": [],
   "source": [
    "\"\"\"\n",
    "Тензор - основной тип данных в Tensorflow, представляющий собой n-размерный массив (сильно напоминает numpy.array).\n",
    "Есть много видов тензоров (фактически бесконечное количество). Тензор, например, может быть скалярным, векторным или\n",
    "матричным. Это зависит от количества измерений конкретного тензора.\n",
    "\"\"\""
   ]
  },
  {
   "cell_type": "code",
   "execution_count": 3,
   "id": "261362b8",
   "metadata": {},
   "outputs": [
    {
     "data": {
      "text/plain": [
       "<tf.Tensor: shape=(), dtype=float32, numpy=4.0>"
      ]
     },
     "execution_count": 3,
     "metadata": {},
     "output_type": "execute_result"
    }
   ],
   "source": [
    "# Скалярный тензор (D-0) - не имеет осей\n",
    "tensor = tf.constant(4, shape=(), dtype=tf.float32)\n",
    "tensor"
   ]
  },
  {
   "cell_type": "code",
   "execution_count": 13,
   "id": "a3c1cb9e",
   "metadata": {},
   "outputs": [
    {
     "data": {
      "text/plain": [
       "<tf.Tensor: shape=(1, 3), dtype=float32, numpy=array([[2., 6., 8.]], dtype=float32)>"
      ]
     },
     "execution_count": 13,
     "metadata": {},
     "output_type": "execute_result"
    }
   ],
   "source": [
    "# Векторный тензор (D-1) - имеет одну ось\n",
    "tensor2 = tf.constant([2., 6., 8.],\n",
    "                      shape=(1, 3),\n",
    "                      dtype=tf.float32)\n",
    "tensor2"
   ]
  },
  {
   "cell_type": "code",
   "execution_count": 12,
   "id": "1bb170e9",
   "metadata": {},
   "outputs": [
    {
     "data": {
      "text/plain": [
       "<tf.Tensor: shape=(2, 3), dtype=int32, numpy=\n",
       "array([[1, 2, 3],\n",
       "       [4, 5, 6]])>"
      ]
     },
     "execution_count": 12,
     "metadata": {},
     "output_type": "execute_result"
    }
   ],
   "source": [
    "# Матричный тензор (D-2) - имеет две оси\n",
    "tensor3 = tf.constant([[1, 2, 3], \n",
    "                       [4, 5, 6]], shape=(2, 3), dtype=tf.int32)\n",
    "tensor3"
   ]
  },
  {
   "cell_type": "code",
   "execution_count": null,
   "id": "54e55f53",
   "metadata": {},
   "outputs": [],
   "source": [
    "# И так далее..."
   ]
  },
  {
   "cell_type": "code",
   "execution_count": 14,
   "id": "06471ba6",
   "metadata": {},
   "outputs": [
    {
     "data": {
      "text/plain": [
       "(<tf.Tensor: shape=(3, 3), dtype=float32, numpy=\n",
       " array([[1., 1., 1.],\n",
       "        [1., 1., 1.],\n",
       "        [1., 1., 1.]], dtype=float32)>,\n",
       " <tf.Tensor: shape=(5, 5), dtype=float32, numpy=\n",
       " array([[0., 0., 0., 0., 0.],\n",
       "        [0., 0., 0., 0., 0.],\n",
       "        [0., 0., 0., 0., 0.],\n",
       "        [0., 0., 0., 0., 0.],\n",
       "        [0., 0., 0., 0., 0.]], dtype=float32)>)"
      ]
     },
     "execution_count": 14,
     "metadata": {},
     "output_type": "execute_result"
    }
   ],
   "source": [
    "# Тензор, заполненный нулями\n",
    "tensor_ones = tf.ones((3, 3))\n",
    "\n",
    "# Тензор, заполненный единицами\n",
    "tensor_zeros = tf.zeros((5, 5))\n",
    "\n",
    "tensor_ones, tensor_zeros  # По умолчанию dtype=tf.float32"
   ]
  },
  {
   "cell_type": "code",
   "execution_count": 15,
   "id": "b10931f7",
   "metadata": {},
   "outputs": [
    {
     "data": {
      "text/plain": [
       "<tf.Tensor: shape=(3, 3, 5), dtype=float32, numpy=\n",
       "array([[[ 2.488634 ,  2.110256 , -0.699378 ,  6.68235  ,  5.7396917],\n",
       "        [ 4.9793425,  4.0027266,  7.0828924,  2.8391833,  2.9980283],\n",
       "        [ 6.896372 ,  3.8062358,  6.6405134,  5.73829  ,  3.3328493]],\n",
       "\n",
       "       [[ 6.145818 ,  6.786583 ,  4.6924706,  5.610982 ,  7.355201 ],\n",
       "        [ 5.144317 ,  8.956663 ,  4.7554865, -0.4891448,  3.6716616],\n",
       "        [ 3.9293168,  7.4849567,  3.3484106,  4.985854 ,  1.7891603]],\n",
       "\n",
       "       [[ 2.6198852, -0.7071333,  6.748938 , -2.6166458,  1.2785358],\n",
       "        [11.587847 ,  8.202044 ,  5.853688 , 11.414026 ,  9.394287 ],\n",
       "        [ 1.6870449,  7.405337 ,  7.2239966,  5.289405 ,  3.2172449]]],\n",
       "      dtype=float32)>"
      ]
     },
     "execution_count": 15,
     "metadata": {},
     "output_type": "execute_result"
    }
   ],
   "source": [
    "# tf.random.normal генерирует случайные значения для тензора\n",
    "random_tensor = tf.random.normal((3, 3, 5), mean=5, stddev=3)\n",
    "random_tensor"
   ]
  },
  {
   "cell_type": "code",
   "execution_count": 16,
   "id": "c99f0d75",
   "metadata": {
    "scrolled": false
   },
   "outputs": [
    {
     "data": {
      "text/plain": [
       "<tf.Tensor: shape=(4, 2, 5), dtype=float32, numpy=\n",
       "array([[[-0.28735518,  0.28070354,  0.14835691, -0.9812188 ,\n",
       "          0.38110733],\n",
       "        [-0.10640383,  0.59192085, -0.17942762,  0.11094522,\n",
       "         -0.5295062 ]],\n",
       "\n",
       "       [[ 0.9913497 ,  0.62728167,  0.7738426 ,  0.13127398,\n",
       "         -0.4484582 ],\n",
       "        [ 0.63839793, -0.4926958 ,  0.47537518, -0.66377664,\n",
       "          0.56122136]],\n",
       "\n",
       "       [[-0.03159523, -0.15863419,  0.30396175,  0.13108706,\n",
       "         -0.30459142],\n",
       "        [ 0.19307971,  0.84243107, -0.41738987,  0.37475872,\n",
       "          0.54456806]],\n",
       "\n",
       "       [[-0.621932  ,  0.7578113 ,  0.76897955,  0.98208284,\n",
       "         -0.6040349 ],\n",
       "        [ 0.13823247, -0.60931754, -0.55199814,  0.135993  ,\n",
       "         -0.11961365]]], dtype=float32)>"
      ]
     },
     "execution_count": 16,
     "metadata": {},
     "output_type": "execute_result"
    }
   ],
   "source": [
    "random_tensor2 = tf.random.uniform((4, 2, 5), minval=-1, maxval=1)\n",
    "random_tensor2"
   ]
  },
  {
   "cell_type": "code",
   "execution_count": 17,
   "id": "c45167e6",
   "metadata": {},
   "outputs": [
    {
     "data": {
      "text/plain": [
       "(<tf.Tensor: shape=(50,), dtype=int32, numpy=\n",
       " array([ 0,  1,  2,  3,  4,  5,  6,  7,  8,  9, 10, 11, 12, 13, 14, 15, 16,\n",
       "        17, 18, 19, 20, 21, 22, 23, 24, 25, 26, 27, 28, 29, 30, 31, 32, 33,\n",
       "        34, 35, 36, 37, 38, 39, 40, 41, 42, 43, 44, 45, 46, 47, 48, 49])>,\n",
       " <tf.Tensor: shape=(61,), dtype=int32, numpy=\n",
       " array([-60, -58, -56, -54, -52, -50, -48, -46, -44, -42, -40, -38, -36,\n",
       "        -34, -32, -30, -28, -26, -24, -22, -20, -18, -16, -14, -12, -10,\n",
       "         -8,  -6,  -4,  -2,   0,   2,   4,   6,   8,  10,  12,  14,  16,\n",
       "         18,  20,  22,  24,  26,  28,  30,  32,  34,  36,  38,  40,  42,\n",
       "         44,  46,  48,  50,  52,  54,  56,  58,  60])>)"
      ]
     },
     "execution_count": 17,
     "metadata": {},
     "output_type": "execute_result"
    }
   ],
   "source": [
    "# Аналог range() в tensorflow\n",
    "tensor_range = tf.range(50)\n",
    "tensor_range2 = tf.range(start=-60, limit=61, delta=2)  # delta == step\n",
    "\n",
    "tensor_range, tensor_range2"
   ]
  },
  {
   "cell_type": "code",
   "execution_count": 18,
   "id": "3e673131",
   "metadata": {},
   "outputs": [
    {
     "data": {
      "text/plain": [
       "<tf.Tensor: shape=(3, 4), dtype=float32, numpy=\n",
       "array([[34., 61.,  7.,  5.],\n",
       "       [73.,  4., 75.,  3.],\n",
       "       [ 1., 85., 54.,  6.]], dtype=float32)>"
      ]
     },
     "execution_count": 18,
     "metadata": {},
     "output_type": "execute_result"
    }
   ],
   "source": [
    "# С помощью tf.cast можно конвертировать ТОЛЬКО тип данных тензора\n",
    "converted_tensor = tf.cast(tf.constant([[34, 61, 7, 5],\n",
    "                                        [73, 4, 75, 3],\n",
    "                                        [1, 85, 54, 6]], shape=(3, 4), dtype=tf.int32),\n",
    "                                        dtype=tf.float32)\n",
    "\n",
    "converted_tensor"
   ]
  },
  {
   "cell_type": "code",
   "execution_count": 28,
   "id": "505b598e",
   "metadata": {},
   "outputs": [
    {
     "data": {
      "text/plain": [
       "(<tf.Tensor: shape=(3,), dtype=int32, numpy=array([ 7,  7, 15])>,\n",
       " <tf.Tensor: shape=(3,), dtype=int32, numpy=array([-3, -1, -1])>,\n",
       " <tf.Tensor: shape=(3,), dtype=float64, numpy=array([0.4  , 0.75 , 0.875])>,\n",
       " <tf.Tensor: shape=(3,), dtype=int32, numpy=array([10, 12, 56])>)"
      ]
     },
     "execution_count": 28,
     "metadata": {},
     "output_type": "execute_result"
    }
   ],
   "source": [
    "# Математические операции\n",
    "vector1 = tf.constant([2, 3, 7])\n",
    "vector2 = tf.constant([5, 4, 8])\n",
    "\n",
    "# Способ по конвинциям                         Другой способ\n",
    "tensor_add = vector1 + vector2          # tf.add(vector1, vector2)\n",
    "tensor_substruct = vector1 - vector2    # tf.substruct(vector1, vector2)\n",
    "tensor_divide = vector1 / vector2       # tf.divide(vector1, vector2)\n",
    "tensor_multiply = vector1 * vector2     # tf.multiply(vector1, vector2)\n",
    "\n",
    "tensor_add, tensor_substruct, tensor_divide, tensor_multiply"
   ]
  },
  {
   "cell_type": "code",
   "execution_count": 26,
   "id": "534fa73e",
   "metadata": {},
   "outputs": [
    {
     "data": {
      "text/plain": [
       "(<tf.Tensor: shape=(3,), dtype=int32, numpy=array([   32,   243, 16807])>,\n",
       " <tf.Tensor: shape=(), dtype=int32, numpy=12>,\n",
       " <tf.Tensor: shape=(3,), dtype=int32, numpy=array([ 54, 135, 154])>)"
      ]
     },
     "execution_count": 26,
     "metadata": {},
     "output_type": "execute_result"
    }
   ],
   "source": [
    "tensor_by_pow = vector1 ** 5  # Возводоим каждый элемент тензора в пятую степень\n",
    "tensor_sum = tf.reduce_sum(vector1, axis=0)  # Ищем сумму всех элементов\n",
    "\n",
    "tensor_advanced_sum = tf.reduce_sum(tf.constant([[45, 2, 7],\n",
    "                                                 [95, 35, 5],\n",
    "                                                 [9, 56, 89]], shape=(3, 3), dtype=tf.int32), axis=1)  \n",
    "# Axis влияет на то, будем ли мы считать сумму в столбцах или строках. В данном случае 1 - строки, 0 - столбцы\n",
    "\n",
    "tensor_by_pow, tensor_sum, tensor_advanced_sum"
   ]
  },
  {
   "cell_type": "code",
   "execution_count": 34,
   "id": "2592ecd8",
   "metadata": {},
   "outputs": [
    {
     "data": {
      "text/plain": [
       "<tf.Tensor: shape=(2,), dtype=int32, numpy=array([ 65, 741])>"
      ]
     },
     "execution_count": 34,
     "metadata": {},
     "output_type": "execute_result"
    }
   ],
   "source": [
    "sample_vector = tf.constant([4, 23, 65, 741])\n",
    "vector_idx = tf.constant([2, 3])\n",
    "result_tensor = tf.gather(sample_vector, vector_idx)\n",
    "\n",
    "result_tensor"
   ]
  },
  {
   "cell_type": "code",
   "execution_count": 35,
   "id": "4c82b69a",
   "metadata": {},
   "outputs": [
    {
     "data": {
      "text/plain": [
       "<tf.Tensor: shape=(2,), dtype=int32, numpy=array([1, 2])>"
      ]
     },
     "execution_count": 35,
     "metadata": {},
     "output_type": "execute_result"
    }
   ],
   "source": [
    "# Индексация с тензорами работает так же, как и с другими похожими типами данных в Python\n",
    "tensor_indexation = tf.constant([[1, 2],\n",
    "                                 [3, 4],\n",
    "                                 [5, 6]])\n",
    "\n",
    "tensor_indexation[0,:]"
   ]
  },
  {
   "cell_type": "code",
   "execution_count": 36,
   "id": "b180a7b8",
   "metadata": {},
   "outputs": [
    {
     "data": {
      "text/plain": [
       "<tf.Tensor: shape=(2, 2), dtype=int32, numpy=\n",
       "array([[1, 2],\n",
       "       [3, 4]])>"
      ]
     },
     "execution_count": 36,
     "metadata": {},
     "output_type": "execute_result"
    }
   ],
   "source": [
    "tensor_indexation[0:2,:]"
   ]
  },
  {
   "cell_type": "code",
   "execution_count": 37,
   "id": "c843c715",
   "metadata": {},
   "outputs": [
    {
     "data": {
      "text/plain": [
       "<tf.Tensor: shape=(3, 3), dtype=int32, numpy=\n",
       "array([[0, 1, 2],\n",
       "       [3, 4, 5],\n",
       "       [6, 7, 8]])>"
      ]
     },
     "execution_count": 37,
     "metadata": {},
     "output_type": "execute_result"
    }
   ],
   "source": [
    "# Reshaping\n",
    "tensor_to_reshape = tf.range(9)\n",
    "reshaped_tensor = tf.reshape(tensor_to_reshape, (3, 3))\n",
    "\n",
    "reshaped_tensor"
   ]
  },
  {
   "cell_type": "code",
   "execution_count": 41,
   "id": "34d1f157",
   "metadata": {},
   "outputs": [
    {
     "data": {
      "text/plain": [
       "<tf.Tensor: shape=(7, 1), dtype=int32, numpy=\n",
       "array([[0],\n",
       "       [1],\n",
       "       [2],\n",
       "       [3],\n",
       "       [4],\n",
       "       [5],\n",
       "       [6]])>"
      ]
     },
     "execution_count": 41,
     "metadata": {},
     "output_type": "execute_result"
    }
   ],
   "source": [
    "tensor_to_reshape2 = tf.range(7)\n",
    "reshaped_tensor2 = tf.reshape(tensor_to_reshape2, (7, 1))\n",
    "\n",
    "\"\"\"\n",
    "Числа кортежа должны произведением давать кол-во элементов в данном тензоре\n",
    "\"\"\"\n",
    "\n",
    "reshaped_tensor2"
   ]
  },
  {
   "cell_type": "code",
   "execution_count": 43,
   "id": "16393a86",
   "metadata": {},
   "outputs": [
    {
     "data": {
      "text/plain": [
       "<tf.Tensor: shape=(3, 3), dtype=int32, numpy=\n",
       "array([[1, 4, 7],\n",
       "       [2, 5, 8],\n",
       "       [3, 6, 9]])>"
      ]
     },
     "execution_count": 43,
     "metadata": {},
     "output_type": "execute_result"
    }
   ],
   "source": [
    "transposed_tensor = tf.transpose(tf.constant([[1, 2, 3],\n",
    "                                              [4, 5, 6],\n",
    "                                              [7, 8, 9]]))\n",
    "\"\"\"\n",
    "tf.transpose содержит параметр perm, который, возможно, и отвечает за то, чтобы транспонировать конкретные\n",
    "измерения тензора\n",
    "\"\"\"\n",
    "\n",
    "transposed_tensor"
   ]
  },
  {
   "cell_type": "code",
   "execution_count": null,
   "id": "66feeac5",
   "metadata": {},
   "outputs": [],
   "source": [
    "# Ссылка на источник - https://www.youtube.com/watch?v=HPjBY1H-U4U&list=PLhhyoLH6IjfxVOdVC1P1L5z5azs0XjMsb&index=2"
   ]
  }
 ],
 "metadata": {
  "kernelspec": {
   "display_name": "Python 3 (ipykernel)",
   "language": "python",
   "name": "python3"
  },
  "language_info": {
   "codemirror_mode": {
    "name": "ipython",
    "version": 3
   },
   "file_extension": ".py",
   "mimetype": "text/x-python",
   "name": "python",
   "nbconvert_exporter": "python",
   "pygments_lexer": "ipython3",
   "version": "3.10.9"
  }
 },
 "nbformat": 4,
 "nbformat_minor": 5
}
